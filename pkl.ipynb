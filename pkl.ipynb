{
 "cells": [
  {
   "cell_type": "code",
   "execution_count": 1,
   "metadata": {},
   "outputs": [],
   "source": [
    "import pandas as pd\n",
    "import numpy as np\n",
    "import seaborn as sns\n",
    "import neattext.functions as nfx"
   ]
  },
  {
   "cell_type": "code",
   "execution_count": 2,
   "metadata": {},
   "outputs": [],
   "source": [
    "from sklearn.linear_model import LogisticRegression\n",
    "from sklearn.naive_bayes import MultinomialNB\n",
    "\n",
    "# Transformers\n",
    "from sklearn.feature_extraction.text import CountVectorizer,TfidfVectorizer,TfidfTransformer\n",
    "from sklearn.model_selection import train_test_split\n",
    "from sklearn.metrics import accuracy_score,classification_report,confusion_matrix"
   ]
  },
  {
   "cell_type": "code",
   "execution_count": 3,
   "metadata": {},
   "outputs": [],
   "source": [
    "df1 = pd.read_csv(\"main.csv\",encoding='cp1252')\n",
    "df2 = pd.read_csv('title6.csv')\n",
    "df = pd.concat([df1,df2], axis=0)"
   ]
  },
  {
   "cell_type": "code",
   "execution_count": 4,
   "metadata": {},
   "outputs": [
    {
     "data": {
      "text/html": [
       "<div>\n",
       "<style scoped>\n",
       "    .dataframe tbody tr th:only-of-type {\n",
       "        vertical-align: middle;\n",
       "    }\n",
       "\n",
       "    .dataframe tbody tr th {\n",
       "        vertical-align: top;\n",
       "    }\n",
       "\n",
       "    .dataframe thead th {\n",
       "        text-align: right;\n",
       "    }\n",
       "</style>\n",
       "<table border=\"1\" class=\"dataframe\">\n",
       "  <thead>\n",
       "    <tr style=\"text-align: right;\">\n",
       "      <th></th>\n",
       "      <th>JobTitle</th>\n",
       "      <th>Location</th>\n",
       "      <th>JobUrl</th>\n",
       "      <th>Lable</th>\n",
       "      <th>Summary</th>\n",
       "    </tr>\n",
       "  </thead>\n",
       "  <tbody>\n",
       "    <tr>\n",
       "      <th>0</th>\n",
       "      <td>Application Integration Engineering</td>\n",
       "      <td>Bangalore</td>\n",
       "      <td>/internship/detail/application-integration-eng...</td>\n",
       "      <td>Engineering</td>\n",
       "      <td>Computer Science and Engineering student who i...</td>\n",
       "    </tr>\n",
       "    <tr>\n",
       "      <th>1</th>\n",
       "      <td>Full Stack Development</td>\n",
       "      <td>Chennai</td>\n",
       "      <td>/internship/detail/full-stack-development-inte...</td>\n",
       "      <td>Engineering</td>\n",
       "      <td>I am undergraduate computer science student wi...</td>\n",
       "    </tr>\n",
       "    <tr>\n",
       "      <th>2</th>\n",
       "      <td>C++ Development (QT Creation)</td>\n",
       "      <td>Work From Home</td>\n",
       "      <td>/internship/detail/c-development-qt-creation-w...</td>\n",
       "      <td>Engineering</td>\n",
       "      <td>Python developer  Data Science Data Analysis S...</td>\n",
       "    </tr>\n",
       "    <tr>\n",
       "      <th>3</th>\n",
       "      <td>ReactJS</td>\n",
       "      <td>Gurgaon</td>\n",
       "      <td>/internship/detail/reactjs-internship-in-gurga...</td>\n",
       "      <td>Engineering</td>\n",
       "      <td>I am a Tech Enthusiast with major experience i...</td>\n",
       "    </tr>\n",
       "    <tr>\n",
       "      <th>4</th>\n",
       "      <td>Flutter Development</td>\n",
       "      <td>Work From Home</td>\n",
       "      <td>/internship/detail/flutter-development-work-fr...</td>\n",
       "      <td>Engineering</td>\n",
       "      <td>pursuing B.E computer Science functional softw...</td>\n",
       "    </tr>\n",
       "  </tbody>\n",
       "</table>\n",
       "</div>"
      ],
      "text/plain": [
       "                              JobTitle        Location  \\\n",
       "0  Application Integration Engineering       Bangalore   \n",
       "1               Full Stack Development         Chennai   \n",
       "2        C++ Development (QT Creation)  Work From Home   \n",
       "3                              ReactJS         Gurgaon   \n",
       "4                  Flutter Development  Work From Home   \n",
       "\n",
       "                                              JobUrl        Lable  \\\n",
       "0  /internship/detail/application-integration-eng...  Engineering   \n",
       "1  /internship/detail/full-stack-development-inte...  Engineering   \n",
       "2  /internship/detail/c-development-qt-creation-w...  Engineering   \n",
       "3  /internship/detail/reactjs-internship-in-gurga...  Engineering   \n",
       "4  /internship/detail/flutter-development-work-fr...  Engineering   \n",
       "\n",
       "                                             Summary  \n",
       "0  Computer Science and Engineering student who i...  \n",
       "1  I am undergraduate computer science student wi...  \n",
       "2  Python developer  Data Science Data Analysis S...  \n",
       "3  I am a Tech Enthusiast with major experience i...  \n",
       "4  pursuing B.E computer Science functional softw...  "
      ]
     },
     "execution_count": 4,
     "metadata": {},
     "output_type": "execute_result"
    }
   ],
   "source": [
    "df.head()"
   ]
  },
  {
   "cell_type": "code",
   "execution_count": 5,
   "metadata": {},
   "outputs": [],
   "source": [
    "df['JobUrl']='https://internshala.com'+df['JobUrl']"
   ]
  },
  {
   "cell_type": "code",
   "execution_count": 35,
   "metadata": {},
   "outputs": [
    {
     "data": {
      "text/plain": [
       "0     https://internshala.com/internship/detail/appl...\n",
       "1     https://internshala.com/internship/detail/full...\n",
       "2     https://internshala.com/internship/detail/c-de...\n",
       "3     https://internshala.com/internship/detail/reac...\n",
       "4     https://internshala.com/internship/detail/flut...\n",
       "                            ...                        \n",
       "6     https://internshala.com/internship/detail/rese...\n",
       "7     https://internshala.com/internship/detail/data...\n",
       "8     https://internshala.com/internship/detail/inve...\n",
       "9     https://internshala.com/internship/detail/data...\n",
       "10    https://internshala.com/internship/detail/proj...\n",
       "Name: JobUrl, Length: 66, dtype: object"
      ]
     },
     "execution_count": 35,
     "metadata": {},
     "output_type": "execute_result"
    }
   ],
   "source": [
    "df.head()\n",
    "df['JobUrl']"
   ]
  },
  {
   "cell_type": "code",
   "execution_count": 34,
   "metadata": {},
   "outputs": [],
   "source": [
    "df.to_csv('joburl.csv')"
   ]
  },
  {
   "cell_type": "code",
   "execution_count": 7,
   "metadata": {},
   "outputs": [],
   "source": [
    "df['Clean_Text'] = df['Summary'].apply(nfx.remove_userhandles)"
   ]
  },
  {
   "cell_type": "code",
   "execution_count": 8,
   "metadata": {},
   "outputs": [],
   "source": [
    "df['Clean_Text'] = df['Clean_Text'].apply(nfx.remove_stopwords)"
   ]
  },
  {
   "cell_type": "code",
   "execution_count": 9,
   "metadata": {},
   "outputs": [],
   "source": [
    "df['Clean_Text']=df['Clean_Text'].apply(nfx.remove_multiple_spaces)"
   ]
  },
  {
   "cell_type": "code",
   "execution_count": 10,
   "metadata": {},
   "outputs": [
    {
     "data": {
      "text/plain": [
       "0     Computer Science Engineering student passionat...\n",
       "1     undergraduate computer science student knowled...\n",
       "2     Python developer Data Science Data Analysis So...\n",
       "3     Tech Enthusiast major experience End Web Devel...\n",
       "4     pursuing B.E computer Science functional softw...\n",
       "                            ...                        \n",
       "6     I'm stack developer machine learning enthusias...\n",
       "7     Python, Flask, Machine Learning, Data visualiz...\n",
       "8     Python, Flask, Machine Learning, Data visualiz...\n",
       "9     M.Sc. Statistics graduate. Highly-motivated pa...\n",
       "10    enthusiast new opportunities domain Data Analy...\n",
       "Name: Clean_Text, Length: 66, dtype: object"
      ]
     },
     "execution_count": 10,
     "metadata": {},
     "output_type": "execute_result"
    }
   ],
   "source": [
    "df['Clean_Text']"
   ]
  },
  {
   "cell_type": "code",
   "execution_count": 11,
   "metadata": {},
   "outputs": [],
   "source": [
    "Clean_Text=[]\n",
    "for i in df.Summary:\n",
    "    cln =i.lower().replace(',', '').replace('/', '').replace('&', '').replace('\\\\', '').replace('!', '').replace(':', '').replace('-', '').replace('\\'', '').replace('.','')\n",
    "    Clean_Text.append(cln)"
   ]
  },
  {
   "cell_type": "code",
   "execution_count": 12,
   "metadata": {},
   "outputs": [],
   "source": [
    "df['Clean_Text'] =Clean_Text"
   ]
  },
  {
   "cell_type": "code",
   "execution_count": 13,
   "metadata": {},
   "outputs": [],
   "source": [
    "df['Clean_Text']=df['JobTitle'] +' '+ df['Lable'] +' '+ df['Clean_Text']"
   ]
  },
  {
   "cell_type": "code",
   "execution_count": 14,
   "metadata": {},
   "outputs": [
    {
     "data": {
      "text/plain": [
       "0     Application Integration Engineering Engineerin...\n",
       "1     Full Stack Development Engineering i am underg...\n",
       "2     C++ Development (QT Creation) Engineering pyth...\n",
       "3     ReactJS Engineering i am a tech enthusiast wit...\n",
       "4     Flutter Development Engineering pursuing be co...\n",
       "                            ...                        \n",
       "6     Research Analytics Data Science im a full stac...\n",
       "7     Data Analytics Data Science python flask machi...\n",
       "8     Investment Banking Data Science python flask m...\n",
       "9     Projects Executing Data Science msc statistics...\n",
       "10    Business Analytics Data Science  i am very muc...\n",
       "Name: Clean_Text, Length: 66, dtype: object"
      ]
     },
     "execution_count": 14,
     "metadata": {},
     "output_type": "execute_result"
    }
   ],
   "source": [
    "df['Clean_Text']"
   ]
  },
  {
   "cell_type": "code",
   "execution_count": 15,
   "metadata": {},
   "outputs": [
    {
     "data": {
      "text/html": [
       "<div>\n",
       "<style scoped>\n",
       "    .dataframe tbody tr th:only-of-type {\n",
       "        vertical-align: middle;\n",
       "    }\n",
       "\n",
       "    .dataframe tbody tr th {\n",
       "        vertical-align: top;\n",
       "    }\n",
       "\n",
       "    .dataframe thead th {\n",
       "        text-align: right;\n",
       "    }\n",
       "</style>\n",
       "<table border=\"1\" class=\"dataframe\">\n",
       "  <thead>\n",
       "    <tr style=\"text-align: right;\">\n",
       "      <th></th>\n",
       "      <th>JobTitle</th>\n",
       "      <th>Location</th>\n",
       "      <th>JobUrl</th>\n",
       "      <th>Lable</th>\n",
       "      <th>Summary</th>\n",
       "      <th>Clean_Text</th>\n",
       "    </tr>\n",
       "  </thead>\n",
       "  <tbody>\n",
       "    <tr>\n",
       "      <th>6</th>\n",
       "      <td>Research Analytics</td>\n",
       "      <td>Agra</td>\n",
       "      <td>https://internshala.com/internship/detail/rese...</td>\n",
       "      <td>Data Science</td>\n",
       "      <td>I'm a full stack developer and machine learnin...</td>\n",
       "      <td>Research Analytics Data Science im a full stac...</td>\n",
       "    </tr>\n",
       "    <tr>\n",
       "      <th>7</th>\n",
       "      <td>Data Analytics</td>\n",
       "      <td>Mumbai</td>\n",
       "      <td>https://internshala.com/internship/detail/data...</td>\n",
       "      <td>Data Science</td>\n",
       "      <td>Python, Flask, Machine Learning, Data visualiz...</td>\n",
       "      <td>Data Analytics Data Science python flask machi...</td>\n",
       "    </tr>\n",
       "    <tr>\n",
       "      <th>8</th>\n",
       "      <td>Investment Banking</td>\n",
       "      <td>Work From Home</td>\n",
       "      <td>https://internshala.com/internship/detail/inve...</td>\n",
       "      <td>Data Science</td>\n",
       "      <td>Python, Flask, Machine Learning, Data visualiz...</td>\n",
       "      <td>Investment Banking Data Science python flask m...</td>\n",
       "    </tr>\n",
       "    <tr>\n",
       "      <th>9</th>\n",
       "      <td>Projects Executing</td>\n",
       "      <td>Delhi</td>\n",
       "      <td>https://internshala.com/internship/detail/data...</td>\n",
       "      <td>Data Science</td>\n",
       "      <td>M.Sc. Statistics graduate. Highly-motivated an...</td>\n",
       "      <td>Projects Executing Data Science msc statistics...</td>\n",
       "    </tr>\n",
       "    <tr>\n",
       "      <th>10</th>\n",
       "      <td>Business Analytics</td>\n",
       "      <td>Jaipur</td>\n",
       "      <td>https://internshala.com/internship/detail/proj...</td>\n",
       "      <td>Data Science</td>\n",
       "      <td>I am very much enthusiast about the new oppor...</td>\n",
       "      <td>Business Analytics Data Science  i am very muc...</td>\n",
       "    </tr>\n",
       "  </tbody>\n",
       "</table>\n",
       "</div>"
      ],
      "text/plain": [
       "              JobTitle        Location  \\\n",
       "6   Research Analytics            Agra   \n",
       "7       Data Analytics          Mumbai   \n",
       "8   Investment Banking  Work From Home   \n",
       "9   Projects Executing           Delhi   \n",
       "10  Business Analytics          Jaipur   \n",
       "\n",
       "                                               JobUrl         Lable  \\\n",
       "6   https://internshala.com/internship/detail/rese...  Data Science   \n",
       "7   https://internshala.com/internship/detail/data...  Data Science   \n",
       "8   https://internshala.com/internship/detail/inve...  Data Science   \n",
       "9   https://internshala.com/internship/detail/data...  Data Science   \n",
       "10  https://internshala.com/internship/detail/proj...  Data Science   \n",
       "\n",
       "                                              Summary  \\\n",
       "6   I'm a full stack developer and machine learnin...   \n",
       "7   Python, Flask, Machine Learning, Data visualiz...   \n",
       "8   Python, Flask, Machine Learning, Data visualiz...   \n",
       "9   M.Sc. Statistics graduate. Highly-motivated an...   \n",
       "10   I am very much enthusiast about the new oppor...   \n",
       "\n",
       "                                           Clean_Text  \n",
       "6   Research Analytics Data Science im a full stac...  \n",
       "7   Data Analytics Data Science python flask machi...  \n",
       "8   Investment Banking Data Science python flask m...  \n",
       "9   Projects Executing Data Science msc statistics...  \n",
       "10  Business Analytics Data Science  i am very muc...  "
      ]
     },
     "execution_count": 15,
     "metadata": {},
     "output_type": "execute_result"
    }
   ],
   "source": [
    "df.tail()"
   ]
  },
  {
   "cell_type": "code",
   "execution_count": 22,
   "metadata": {},
   "outputs": [],
   "source": [
    "Xfeatures = df['Clean_Text']\n",
    "ylabels = df['Lable']"
   ]
  },
  {
   "cell_type": "code",
   "execution_count": 23,
   "metadata": {},
   "outputs": [],
   "source": [
    "x_train,x_test,y_train,y_test = train_test_split(Xfeatures,ylabels,test_size=0.3,random_state=42)"
   ]
  },
  {
   "cell_type": "code",
   "execution_count": 24,
   "metadata": {},
   "outputs": [],
   "source": [
    "from sklearn.pipeline import Pipeline"
   ]
  },
  {
   "cell_type": "code",
   "execution_count": 25,
   "metadata": {},
   "outputs": [],
   "source": [
    "pipe_lr = Pipeline(steps=[('cv',CountVectorizer()),('lr',LogisticRegression())])"
   ]
  },
  {
   "cell_type": "code",
   "execution_count": 26,
   "metadata": {},
   "outputs": [
    {
     "data": {
      "text/plain": [
       "Pipeline(steps=[('cv', CountVectorizer()), ('lr', LogisticRegression())])"
      ]
     },
     "execution_count": 26,
     "metadata": {},
     "output_type": "execute_result"
    }
   ],
   "source": [
    "pipe_lr.fit(x_train,y_train)"
   ]
  },
  {
   "cell_type": "code",
   "execution_count": 27,
   "metadata": {},
   "outputs": [
    {
     "data": {
      "text/plain": [
       "1.0"
      ]
     },
     "execution_count": 27,
     "metadata": {},
     "output_type": "execute_result"
    }
   ],
   "source": [
    "pipe_lr.score(x_test,y_test)"
   ]
  },
  {
   "cell_type": "code",
   "execution_count": 28,
   "metadata": {},
   "outputs": [],
   "source": [
    "def predict_profile(docx):\n",
    "    results = pipe_lr.predict([docx])\n",
    "    return str(results[0])"
   ]
  },
  {
   "cell_type": "code",
   "execution_count": 29,
   "metadata": {},
   "outputs": [],
   "source": [
    "s='statistics Mba'\n",
    "p=predict_profile(s)"
   ]
  },
  {
   "cell_type": "code",
   "execution_count": 30,
   "metadata": {},
   "outputs": [
    {
     "data": {
      "text/html": [
       "<div>\n",
       "<style scoped>\n",
       "    .dataframe tbody tr th:only-of-type {\n",
       "        vertical-align: middle;\n",
       "    }\n",
       "\n",
       "    .dataframe tbody tr th {\n",
       "        vertical-align: top;\n",
       "    }\n",
       "\n",
       "    .dataframe thead th {\n",
       "        text-align: right;\n",
       "    }\n",
       "</style>\n",
       "<table border=\"1\" class=\"dataframe\">\n",
       "  <thead>\n",
       "    <tr style=\"text-align: right;\">\n",
       "      <th></th>\n",
       "      <th>JobTitle</th>\n",
       "      <th>Location</th>\n",
       "      <th>JobUrl</th>\n",
       "      <th>Lable</th>\n",
       "      <th>Summary</th>\n",
       "      <th>Clean_Text</th>\n",
       "    </tr>\n",
       "  </thead>\n",
       "  <tbody>\n",
       "    <tr>\n",
       "      <th>45</th>\n",
       "      <td>Campus Ambassador</td>\n",
       "      <td>Work From Home</td>\n",
       "      <td>https://internshala.com/internship/detail/camp...</td>\n",
       "      <td>MBA</td>\n",
       "      <td>Design, develop, maintain and support LSF subm...</td>\n",
       "      <td>Campus Ambassador MBA design develop maintain ...</td>\n",
       "    </tr>\n",
       "    <tr>\n",
       "      <th>46</th>\n",
       "      <td>Retail Sales</td>\n",
       "      <td>Faridabad</td>\n",
       "      <td>https://internshala.com/internship/detail/reta...</td>\n",
       "      <td>MBA</td>\n",
       "      <td>Develop in-house tools to create a workflow wi...</td>\n",
       "      <td>Retail Sales MBA develop inhouse tools to crea...</td>\n",
       "    </tr>\n",
       "    <tr>\n",
       "      <th>47</th>\n",
       "      <td>Business Development (Sales)</td>\n",
       "      <td>Chennai</td>\n",
       "      <td>https://internshala.com/internship/detail/busi...</td>\n",
       "      <td>MBA</td>\n",
       "      <td>C++, Management, Leadership, and Soft Skills J...</td>\n",
       "      <td>Business Development (Sales) MBA c++ managemen...</td>\n",
       "    </tr>\n",
       "    <tr>\n",
       "      <th>48</th>\n",
       "      <td>Business Development (Sales)</td>\n",
       "      <td>Delhi</td>\n",
       "      <td>https://internshala.com/internship/detail/busi...</td>\n",
       "      <td>MBA</td>\n",
       "      <td>Skilled in Python (Programming Language), C++,...</td>\n",
       "      <td>Business Development (Sales) MBA skilled in py...</td>\n",
       "    </tr>\n",
       "    <tr>\n",
       "      <th>49</th>\n",
       "      <td>Operations</td>\n",
       "      <td>Work From Home</td>\n",
       "      <td>https://internshala.com/internship/detail/oper...</td>\n",
       "      <td>MBA</td>\n",
       "      <td>Skilled in Communication, Market Research, Eng...</td>\n",
       "      <td>Operations MBA skilled in communication market...</td>\n",
       "    </tr>\n",
       "    <tr>\n",
       "      <th>50</th>\n",
       "      <td>Business Development (Sales)</td>\n",
       "      <td>Jaipur</td>\n",
       "      <td>https://internshala.com/internship/detail/busi...</td>\n",
       "      <td>MBA</td>\n",
       "      <td>Work on CSS, HTML, PHP, JavaScript jQuery Hand...</td>\n",
       "      <td>Business Development (Sales) MBA work on css h...</td>\n",
       "    </tr>\n",
       "    <tr>\n",
       "      <th>51</th>\n",
       "      <td>Business Development (Sales)</td>\n",
       "      <td>Chandigarh</td>\n",
       "      <td>https://internshala.com/internship/detail/busi...</td>\n",
       "      <td>MBA</td>\n",
       "      <td>Work on the algorithm's optimization, interfac...</td>\n",
       "      <td>Business Development (Sales) MBA work on the a...</td>\n",
       "    </tr>\n",
       "    <tr>\n",
       "      <th>52</th>\n",
       "      <td>Marketing</td>\n",
       "      <td>Ludhiana</td>\n",
       "      <td>https://internshala.com/internship/detail/mark...</td>\n",
       "      <td>MBA</td>\n",
       "      <td>C++ python CSS, HTML, PHP, JavaScript jQuery a...</td>\n",
       "      <td>Marketing MBA c++ python css html php javascri...</td>\n",
       "    </tr>\n",
       "    <tr>\n",
       "      <th>53</th>\n",
       "      <td>Content Writing</td>\n",
       "      <td>Work From Home</td>\n",
       "      <td>https://internshala.com/internship/detail/cont...</td>\n",
       "      <td>MBA</td>\n",
       "      <td>Developing a hardware prototype for IoT nodes ...</td>\n",
       "      <td>Content Writing MBA developing a hardware prot...</td>\n",
       "    </tr>\n",
       "    <tr>\n",
       "      <th>54</th>\n",
       "      <td>Business Development (Sales)</td>\n",
       "      <td>Agra</td>\n",
       "      <td>https://internshala.com/internship/detail/busi...</td>\n",
       "      <td>MBA</td>\n",
       "      <td>Designing the overall architecture for the web...</td>\n",
       "      <td>Business Development (Sales) MBA designing the...</td>\n",
       "    </tr>\n",
       "  </tbody>\n",
       "</table>\n",
       "</div>"
      ],
      "text/plain": [
       "                        JobTitle        Location  \\\n",
       "45             Campus Ambassador  Work From Home   \n",
       "46                  Retail Sales       Faridabad   \n",
       "47  Business Development (Sales)         Chennai   \n",
       "48  Business Development (Sales)           Delhi   \n",
       "49                    Operations  Work From Home   \n",
       "50  Business Development (Sales)          Jaipur   \n",
       "51  Business Development (Sales)      Chandigarh   \n",
       "52                     Marketing        Ludhiana   \n",
       "53               Content Writing  Work From Home   \n",
       "54  Business Development (Sales)            Agra   \n",
       "\n",
       "                                               JobUrl Lable  \\\n",
       "45  https://internshala.com/internship/detail/camp...   MBA   \n",
       "46  https://internshala.com/internship/detail/reta...   MBA   \n",
       "47  https://internshala.com/internship/detail/busi...   MBA   \n",
       "48  https://internshala.com/internship/detail/busi...   MBA   \n",
       "49  https://internshala.com/internship/detail/oper...   MBA   \n",
       "50  https://internshala.com/internship/detail/busi...   MBA   \n",
       "51  https://internshala.com/internship/detail/busi...   MBA   \n",
       "52  https://internshala.com/internship/detail/mark...   MBA   \n",
       "53  https://internshala.com/internship/detail/cont...   MBA   \n",
       "54  https://internshala.com/internship/detail/busi...   MBA   \n",
       "\n",
       "                                              Summary  \\\n",
       "45  Design, develop, maintain and support LSF subm...   \n",
       "46  Develop in-house tools to create a workflow wi...   \n",
       "47  C++, Management, Leadership, and Soft Skills J...   \n",
       "48  Skilled in Python (Programming Language), C++,...   \n",
       "49  Skilled in Communication, Market Research, Eng...   \n",
       "50  Work on CSS, HTML, PHP, JavaScript jQuery Hand...   \n",
       "51  Work on the algorithm's optimization, interfac...   \n",
       "52  C++ python CSS, HTML, PHP, JavaScript jQuery a...   \n",
       "53  Developing a hardware prototype for IoT nodes ...   \n",
       "54  Designing the overall architecture for the web...   \n",
       "\n",
       "                                           Clean_Text  \n",
       "45  Campus Ambassador MBA design develop maintain ...  \n",
       "46  Retail Sales MBA develop inhouse tools to crea...  \n",
       "47  Business Development (Sales) MBA c++ managemen...  \n",
       "48  Business Development (Sales) MBA skilled in py...  \n",
       "49  Operations MBA skilled in communication market...  \n",
       "50  Business Development (Sales) MBA work on css h...  \n",
       "51  Business Development (Sales) MBA work on the a...  \n",
       "52  Marketing MBA c++ python css html php javascri...  \n",
       "53  Content Writing MBA developing a hardware prot...  \n",
       "54  Business Development (Sales) MBA designing the...  "
      ]
     },
     "execution_count": 30,
     "metadata": {},
     "output_type": "execute_result"
    }
   ],
   "source": [
    "df.loc[df['Lable']==p]"
   ]
  },
  {
   "cell_type": "code",
   "execution_count": 31,
   "metadata": {},
   "outputs": [
    {
     "ename": "NameError",
     "evalue": "name 'ex1' is not defined",
     "output_type": "error",
     "traceback": [
      "\u001b[1;31m---------------------------------------------------------------------------\u001b[0m",
      "\u001b[1;31mNameError\u001b[0m                                 Traceback (most recent call last)",
      "\u001b[1;32m<ipython-input-31-22645dccb830>\u001b[0m in \u001b[0;36m<module>\u001b[1;34m\u001b[0m\n\u001b[1;32m----> 1\u001b[1;33m \u001b[0mpipe_lr\u001b[0m\u001b[1;33m.\u001b[0m\u001b[0mpredict_proba\u001b[0m\u001b[1;33m(\u001b[0m\u001b[1;33m[\u001b[0m\u001b[0mex1\u001b[0m\u001b[1;33m]\u001b[0m\u001b[1;33m)\u001b[0m\u001b[1;33m\u001b[0m\u001b[1;33m\u001b[0m\u001b[0m\n\u001b[0m",
      "\u001b[1;31mNameError\u001b[0m: name 'ex1' is not defined"
     ]
    }
   ],
   "source": [
    "pipe_lr.predict_proba([ex1])\n"
   ]
  },
  {
   "cell_type": "code",
   "execution_count": 32,
   "metadata": {},
   "outputs": [
    {
     "data": {
      "text/plain": [
       "array(['Computer Vision', 'Data Science', 'Engineering', 'MBA'],\n",
       "      dtype=object)"
      ]
     },
     "execution_count": 32,
     "metadata": {},
     "output_type": "execute_result"
    }
   ],
   "source": [
    "pipe_lr.classes_"
   ]
  },
  {
   "cell_type": "code",
   "execution_count": 33,
   "metadata": {},
   "outputs": [],
   "source": [
    "import joblib\n",
    "pipeline_file = open(\"model.pkl\",\"wb\")\n",
    "joblib.dump(pipe_lr,pipeline_file)\n",
    "pipeline_file.close()"
   ]
  },
  {
   "cell_type": "code",
   "execution_count": null,
   "metadata": {},
   "outputs": [],
   "source": []
  }
 ],
 "metadata": {
  "kernelspec": {
   "display_name": "Python 3",
   "language": "python",
   "name": "python3"
  },
  "language_info": {
   "codemirror_mode": {
    "name": "ipython",
    "version": 3
   },
   "file_extension": ".py",
   "mimetype": "text/x-python",
   "name": "python",
   "nbconvert_exporter": "python",
   "pygments_lexer": "ipython3",
   "version": "3.8.5"
  }
 },
 "nbformat": 4,
 "nbformat_minor": 4
}
