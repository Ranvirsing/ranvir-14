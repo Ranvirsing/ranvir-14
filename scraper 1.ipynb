{
 "cells": [
  {
   "cell_type": "code",
   "execution_count": 2,
   "metadata": {},
   "outputs": [],
   "source": [
    "from bs4 import BeautifulSoup\n",
    "import pandas as pd\n",
    "import requests\n",
    "import csv"
   ]
  },
  {
   "cell_type": "code",
   "execution_count": 9,
   "metadata": {},
   "outputs": [],
   "source": [
    "res = requests.get('https://internshala.com/internships/analytics-internship')\n",
    "soup = BeautifulSoup(res.text, 'html.parser')\n",
    "allposts=soup.findAll(True,{'class':\"container-fluid individual_internship\"})\n",
    "records1=[]\n",
    "for post in allposts:\n",
    "    job_title = post.find('a').text.strip()\n",
    "    job_location = post.find('a','location_link').text.strip()\n",
    "    job_url=post.find('a','view_detail_button').get('href')\n",
    "    \n",
    "    record1=[job_title,job_location,job_url]\n",
    "    records1.append(record1)\n",
    "\n",
    "with open('title.csv', 'w', newline='', encoding='utf-8') as f:\n",
    "        writer = csv.writer(f)\n",
    "        writer.writerow(['JobTitle','Location','JobUrl'])\n",
    "        writer.writerows(records1)"
   ]
  },
  {
   "cell_type": "code",
   "execution_count": 3,
   "metadata": {},
   "outputs": [],
   "source": [
    "res = requests.get('https://internshala.com/internships/analytics-internship')\n",
    "soup = BeautifulSoup(res.text, 'html.parser')\n",
    "allposts=soup.findAll(True,{'class':\"container-fluid individual_internship\"})\n",
    "records1=[]\n",
    "for post in allposts:\n",
    "    job_title = post.find('a').text.strip()\n",
    "    job_location = post.find('a','location_link').text.strip()\n",
    "    job_url=post.find('a','view_detail_button').get('href')\n",
    "    \n",
    "    record1=[job_title,job_location,job_url]\n",
    "    records1.append(record1)\n",
    "\n",
    "with open('title6.csv', 'w', newline='', encoding='utf-8') as f:\n",
    "        writer = csv.writer(f)\n",
    "        writer.writerow(['JobTitle','Location','JobUrl'])\n",
    "        writer.writerows(records1)"
   ]
  },
  {
   "cell_type": "code",
   "execution_count": 35,
   "metadata": {},
   "outputs": [
    {
     "data": {
      "text/plain": [
       "'https://internshala.com//internship/detail/database-etl-development-work-from-home-job-internship-at-fourthpointer-services1631001230'"
      ]
     },
     "execution_count": 35,
     "metadata": {},
     "output_type": "execute_result"
    }
   ],
   "source": [
    "job_url1=post.find('a','view_detail_button').get('href')\n",
    "'https://internshala.com/'+job_url1"
   ]
  },
  {
   "cell_type": "code",
   "execution_count": 4,
   "metadata": {},
   "outputs": [],
   "source": [
    "res2 = requests.get('https://internshala.com/internships/computer%20vision-internship')\n",
    "soup2 = BeautifulSoup(res2.text, 'html.parser')\n",
    "allposts2=soup2.findAll(True,{'class':\"container-fluid individual_internship\"})\n",
    "records2=[]\n",
    "for post in allposts2:\n",
    "    job_title = post.find('a').text.strip()\n",
    "    job_location = post.find('a','location_link').text.strip()\n",
    "    job_url=post.find('a','view_detail_button').get('href')\n",
    "    \n",
    "    record2=[job_title,job_location,job_url]\n",
    "    records2.append(record2)\n",
    "with open('title2.csv', 'w', newline='', encoding='utf-8') as f:\n",
    "        writer = csv.writer(f)\n",
    "        writer.writerow(['JobTitle','Location','JobUrl'])\n",
    "        writer.writerows(records2)"
   ]
  },
  {
   "cell_type": "code",
   "execution_count": 5,
   "metadata": {},
   "outputs": [],
   "source": [
    "res3 = requests.get('https://internshala.com/internships/data%20science-internship')\n",
    "soup3 = BeautifulSoup(res3.text, 'html.parser')\n",
    "allposts3=soup3.findAll(True,{'class':\"container-fluid individual_internship\"})\n",
    "records3=[]\n",
    "for post in allposts3:\n",
    "    job_title = post.find('a').text.strip()\n",
    "    job_location = post.find('a','location_link').text.strip()\n",
    "    job_url=post.find('a','view_detail_button').get('href')\n",
    "    \n",
    "    record3=[job_title,job_location,job_url]\n",
    "    records3.append(record3)\n",
    "    \n",
    "import csv\n",
    "with open('title3.csv', 'w', newline='', encoding='utf-8') as f:\n",
    "        writer = csv.writer(f)\n",
    "        writer.writerow(['JobTitle','Location','JobUrl'])\n",
    "        writer.writerows(records3)"
   ]
  },
  {
   "cell_type": "code",
   "execution_count": 8,
   "metadata": {},
   "outputs": [],
   "source": [
    "res4 = requests.get('https://internshala.com/internships/biology-internship')\n",
    "soup4 = BeautifulSoup(res4.text, 'html.parser')\n",
    "allposts4=soup4.findAll(True,{'class':\"container-fluid individual_internship\"})\n",
    "records4=[]\n",
    "for post in allposts4:\n",
    "    job_title = post.find('a').text.strip()\n",
    "    job_location = post.find('a','location_link').text.strip()\n",
    "    job_url=post.find('a','view_detail_button').get('href')\n",
    "    \n",
    "    record4=[job_title,job_location,job_url]\n",
    "    records4.append(record4)\n",
    "    \n",
    "import csv\n",
    "with open('title4.csv', 'w', newline='', encoding='utf-8') as f:\n",
    "        writer = csv.writer(f)\n",
    "        writer.writerow(['JobTitle','Location','JobUrl'])\n",
    "        writer.writerows(records4)"
   ]
  },
  {
   "cell_type": "code",
   "execution_count": 7,
   "metadata": {},
   "outputs": [],
   "source": [
    "res5 = requests.get('https://internshala.com/internships/mba-internship')\n",
    "soup5 = BeautifulSoup(res5.text, 'html.parser')\n",
    "allposts5=soup5.findAll(True,{'class':\"container-fluid individual_internship\"})\n",
    "records5=[]\n",
    "for post in allposts5:\n",
    "    job_title = post.find('a').text.strip()\n",
    "    job_location = post.find('a','location_link').text.strip()\n",
    "    job_url=post.find('a','view_detail_button').get('href')\n",
    "    \n",
    "    record5=[job_title,job_location,job_url]\n",
    "    records5.append(record5)\n",
    "    \n",
    "import csv\n",
    "with open('title5.csv', 'w', newline='', encoding='utf-8') as f:\n",
    "        writer = csv.writer(f)\n",
    "        writer.writerow(['JobTitle','Location','JobUrl'])\n",
    "        writer.writerows(records5)"
   ]
  },
  {
   "cell_type": "code",
   "execution_count": 42,
   "metadata": {},
   "outputs": [],
   "source": [
    "res1=requests.get('https://internshala.com/'+job_url1)\n",
    "soup1=BeautifulSoup(res1.text, 'html.parser')\n",
    "allposts1=soup1.find_all(True,{'class':\"internship_details\"})"
   ]
  },
  {
   "cell_type": "code",
   "execution_count": 11,
   "metadata": {},
   "outputs": [],
   "source": [
    "for post1 in allposts1:\n",
    "    summ1=post1.findAll('div','text-container')[0].text.strip()\n",
    "    summ2=post1.findAll('div','text-container')[1].text.strip()\n",
    "    summ3=post1.findAll('div','text-container')[2].text.strip()\n",
    "    "
   ]
  },
  {
   "cell_type": "code",
   "execution_count": null,
   "metadata": {},
   "outputs": [],
   "source": [
    "def get_sum(allpost):\n",
    "    allpost.find('a','view_detail_button').get('href')\n",
    "    requests.get('https://internshala.com/'+job_summary)\n",
    "    BeautifulSoup(res1.text, 'html.parser')\n",
    "    soup.find_all(True,{'class':\"internship_details\"})\n",
    "    allpost1.findAll('div','text-container')[2].text.strip()"
   ]
  },
  {
   "cell_type": "code",
   "execution_count": 245,
   "metadata": {},
   "outputs": [],
   "source": [
    "job_summary=allpost.find('a','view_detail_button').get('href')"
   ]
  },
  {
   "cell_type": "code",
   "execution_count": 115,
   "metadata": {},
   "outputs": [],
   "source": [
    "res1=requests.get('https://internshala.com/'+job_summary)"
   ]
  },
  {
   "cell_type": "code",
   "execution_count": 116,
   "metadata": {},
   "outputs": [],
   "source": [
    "soup = BeautifulSoup(res1.text, 'html.parser')"
   ]
  },
  {
   "cell_type": "code",
   "execution_count": 117,
   "metadata": {},
   "outputs": [],
   "source": [
    "allposts1=soup.find_all(True,{'class':\"internship_details\"})"
   ]
  },
  {
   "cell_type": "code",
   "execution_count": 118,
   "metadata": {},
   "outputs": [
    {
     "data": {
      "text/plain": [
       "<div class=\"internship_details\">\n",
       "<div class=\"section_heading heading_5_5\">\n",
       "            About International Model United Nations        </div>\n",
       "<div class=\"text-container website_link\">\n",
       "<a href=\"http://www.internationalmun.org/\" rel=\"nofollow noopener noreferrer\" target=\"_blank\">Website <i class=\"ic-16-external-link\"></i></a>\n",
       "</div>\n",
       "<div class=\"text-container about_company_text_container\">\n",
       "    International MUN brings youth together from around the world to learn and share ideas from a diverse set of experiences and backgrounds in its offline &amp; online Model United Nations conferences. International MUN is recognized by the United Nations &amp; has hosted MUN conferences in 5 different countries in the last 3 years i.e in Thailand, Vietnam, Egypt, China &amp; Malaysia. Next IMUN conferences in 2020 are scheduled in the Philippines, Indonesia, and South Korea. Also, IMUN has been sponsored and supported by the United Nations specialized organizations like UNDP, UNESCO, IOM as well as by The Australian Embassy in Vietnam &amp; Thailand.<br/>\n",
       "<br/>\n",
       "IMUN is recruiting Interns from different schools &amp; universities with some exciting benefits like stipend, sponsored trips to the next IMUN conferences, work with IMUN Team, etc. At IMUN, your voice matters!</div>\n",
       "<div class=\"activity_section\">\n",
       "<div class=\"heading_6 heading_activity\">Activity on Internshala</div>\n",
       "<div class=\"activity_container\">\n",
       "<div class=\"activity\">\n",
       "<i class=\"ic-16-suggested-time\"></i>\n",
       "<div class=\"text body-main\">Hiring since August 2018</div>\n",
       "</div>\n",
       "<div class=\"activity\">\n",
       "<i class=\"ic-16-job\"></i>\n",
       "<div class=\"text body-main\">101 opportunities posted</div>\n",
       "</div>\n",
       "<div class=\"activity\">\n",
       "<i class=\"ic-16-hired\"></i>\n",
       "<div class=\"text body-main\">22251 candidates hired</div>\n",
       "</div>\n",
       "</div>\n",
       "</div>\n",
       "<div class=\"section_heading heading_5_5\">About the Program</div>\n",
       "<div class=\"text-container\">\n",
       "    The Campus Ambassador's day-to-day responsibilities include:<br/>\n",
       "<br/>\n",
       "1. Promoting IMUN Online Conferences among your peers as well as in different schools/universities &amp; get registrations<br/>\n",
       "2. Informing them about International Model United Nations conferences &amp; How MUNs play an important role in learning different essentials skills like Negotiation, Diplomacy, Leadership, etc<br/>\n",
       "3. Being a Brand Ambassador of International MUN and promote on your social media as well as through different channels<br/>\n",
       "4. Assisting in driving registrations for IMUN online conference, costing $9 each\"</div>\n",
       "<div class=\"section_heading heading_5_5\">Learning opportunities</div>\n",
       "<div class=\"text-container\">\n",
       "        IMUN Campus Ambassador Internship aimed at building the youth leaders of tomorrow. During the internship, IMUN Team will directly be working with you and you will get to learn different life skills like Business Development, Leadership, Marketing and Sales while you represent International MUN in your schools &amp; the college.    </div>\n",
       "<div class=\"section_heading heading_5_5\">Who can apply</div>\n",
       "<div class=\"text-container who_can_apply\">\n",
       "<p style=\"margin-bottom: 4px; color: #484848;\">Only those candidates can apply who:</p>\n",
       "<p style=\"\n",
       "                       margin-bottom: 4px;\n",
       "                       color: #484848;\n",
       "                       \">1. can start the part time job/internship between 25th Aug'21 and 29th Sep'21</p>\n",
       "\n",
       "<p style=\"\n",
       "                       margin-bottom: 4px;\n",
       "                       color: #484848;\n",
       "                       \">2. are available for duration of 1 month</p>\n",
       "\n",
       "<p style=\"\n",
       "                       margin-bottom: 4px;\n",
       "                       color: #484848;\n",
       "                       \">3. have relevant skills and interests</p>\n",
       "\n",
       "<p style=\"margin-bottom: 4px; color: #484848;\"></p>\n",
       "</div>\n",
       "<div class=\"section_heading heading_5_5\">Rewards and incentives</div>\n",
       "<div class=\"text-container\">\n",
       "        1. Performance-based rewards as per which you can earn up to 15,000 INR<br/>\n",
       "2. Incentive on each referral up to 50%<br/>\n",
       "3. IMUN official Internship Certificate, Letter of Recommendation &amp;<br/>\n",
       "Appreciation, Visiting Card on successful completion of Internship<br/>\n",
       "4. Top performers will get a sponsored trip to the next IMUN conferences as an<br/>\n",
       "organizing team member<br/>\n",
       "5. International Internships counseling via IMUN international partners    </div>\n",
       "<div class=\"section_heading heading_5_5\">Perks</div>\n",
       "<div class=\"round_tabs_container\">\n",
       "<span class=\"round_tabs\">Certificate</span>\n",
       "<span class=\"round_tabs\"> Letter of recommendation</span>\n",
       "<span class=\"round_tabs\"> Flexible work hours</span>\n",
       "<span class=\"round_tabs\"> 5 days a week</span>\n",
       "</div>\n",
       "<div class=\"section_heading heading_5_5\">Selection procedure</div>\n",
       "<div class=\"text-container\">\n",
       "        Campus Ambassadors will be selected on the basis of their applications    </div>\n",
       "<div class=\"section_heading heading_5_5\">Number of openings</div>\n",
       "<div class=\"text-container\">\n",
       "        1000    </div>\n",
       "<div class=\"buttons_container\">\n",
       "<input id=\"status\" type=\"hidden\" value=\"active\"/>\n",
       "<a href=\"/student/interstitial/application/campus-ambassador-programme-at-international-model-united-nations1629878383\">\n",
       "<button class=\"btn btn-large\">\n",
       "                        Apply now\n",
       "                    </button>\n",
       "</a>\n",
       "</div>\n",
       "<div class=\"modal fade\" id=\"questions\" role=\"dialog\" tabindex=\"-1\">\n",
       "<div class=\"modal-dialog modal-dialog-scrollable\">\n",
       "<div class=\"modal-content\">\n",
       "<div class=\"modal-header\">\n",
       "<div id=\"modal_heading\">\n",
       "<h4>Additional Questions</h4>\n",
       "</div>\n",
       "<button aria-label=\"Close\" class=\"close\" data-dismiss=\"modal\" type=\"button\"><span aria-hidden=\"true\">×</span></button>\n",
       "</div>\n",
       "<div class=\"modal-body\">\n",
       "</div>\n",
       "<div class=\"modal-footer\">\n",
       "<button class=\"btn btn-primary\" data-dismiss=\"modal\" type=\"button\">Close</button>\n",
       "</div>\n",
       "</div>\n",
       "</div>\n",
       "</div>\n",
       "</div>"
      ]
     },
     "execution_count": 118,
     "metadata": {},
     "output_type": "execute_result"
    }
   ],
   "source": []
  },
  {
   "cell_type": "code",
   "execution_count": 252,
   "metadata": {},
   "outputs": [],
   "source": [
    "summ=allpost1.findAll('div','text-container')[1].text.strip()"
   ]
  },
  {
   "cell_type": "code",
   "execution_count": 253,
   "metadata": {},
   "outputs": [
    {
     "data": {
      "text/plain": [
       "'International MUN brings youth together from around the world to learn and share ideas from a diverse set of experiences and backgrounds in its offline & online Model United Nations conferences. International MUN is recognized by the United Nations & has hosted MUN conferences in 5 different countries in the last 3 years i.e in Thailand, Vietnam, Egypt, China & Malaysia. Next IMUN conferences in 2020 are scheduled in the Philippines, Indonesia, and South Korea. Also, IMUN has been sponsored and supported by the United Nations specialized organizations like UNDP, UNESCO, IOM as well as by The Australian Embassy in Vietnam & Thailand.\\n\\nIMUN is recruiting Interns from different schools & universities with some exciting benefits like stipend, sponsored trips to the next IMUN conferences, work with IMUN Team, etc. At IMUN, your voice matters!'"
      ]
     },
     "execution_count": 253,
     "metadata": {},
     "output_type": "execute_result"
    }
   ],
   "source": [
    "summ"
   ]
  },
  {
   "cell_type": "code",
   "execution_count": 198,
   "metadata": {},
   "outputs": [
    {
     "data": {
      "text/plain": [
       "'/internship/detail/business-development-sales-part-time-job-internship-at-gurgaon-in-decathlon1631029520'"
      ]
     },
     "execution_count": 198,
     "metadata": {},
     "output_type": "execute_result"
    }
   ],
   "source": [
    "job_url=allpost.find('a','view_detail_button').get('href')\n",
    "job_url"
   ]
  },
  {
   "cell_type": "code",
   "execution_count": 261,
   "metadata": {},
   "outputs": [],
   "source": [
    "def get_record(allpost):\n",
    "    \"\"\"Extract job data from a single record\"\"\"\n",
    "    \n",
    "    job_title = allpost.find('a').text.strip()\n",
    "    job_location = allpost.find('a','location_link').text.strip()\n",
    "    job_url=allpost.find('a','view_detail_button').get('href')\n",
    "    res1=requests.get('https://internshala.com/'+job_summary)\n",
    "    soup1=BeautifulSoup(res1.text, 'html.parser')\n",
    "    allposts1=soup1.find_all(True,{'class':\"internship_details\"})\n",
    "    allpost1=allposts1[0]\n",
    "    summ1=allpost1.findAll('div','text-container')[0].text.strip()\n",
    "    summ2=allpost1.findAll('div','text-container')[1].text.strip()\n",
    "    summ3=allpost1.findAll('div','text-container')[2].text.strip()\n",
    "    record = (job_title,job_location,job_url,summ1,summ2,summ3)\n",
    "    return record"
   ]
  },
  {
   "cell_type": "code",
   "execution_count": 271,
   "metadata": {},
   "outputs": [],
   "source": [
    "records = []\n",
    "\n",
    "for allpost in allposts:\n",
    "    record = get_record(allpost)\n",
    "    records.append(record)"
   ]
  },
  {
   "cell_type": "code",
   "execution_count": 272,
   "metadata": {},
   "outputs": [],
   "source": [
    "with open('results.csv', 'w', newline='', encoding='utf-8') as f:\n",
    "        writer = csv.writer(f)\n",
    "        writer.writerow(['JobTitle','Location','JobUrl','Summary1','Summary2','Summary3'])\n",
    "        writer.writerows(records)"
   ]
  },
  {
   "cell_type": "code",
   "execution_count": 236,
   "metadata": {},
   "outputs": [],
   "source": [
    "def get_record(allpost1):\n",
    "    \"\"\"Extract job data from a single record\"\"\"\n",
    "    \n",
    "    summ=allpost1.find('div','text-container')\n",
    "    record1 = (sum)\n",
    "    return record1"
   ]
  },
  {
   "cell_type": "code",
   "execution_count": 205,
   "metadata": {},
   "outputs": [
    {
     "name": "stderr",
     "output_type": "stream",
     "text": [
      "C:\\Users\\Admin\\anaconda3\\lib\\site-packages\\pandas\\core\\internals\\construction.py:305: VisibleDeprecationWarning: Creating an ndarray from ragged nested sequences (which is a list-or-tuple of lists-or-tuples-or ndarrays with different lengths or shapes) is deprecated. If you meant to do this, you must specify 'dtype=object' when creating the ndarray\n",
      "  values = np.array([convert(v) for v in values])\n"
     ]
    }
   ],
   "source": [
    "import pandas as pd\n",
    "df = pd.DataFrame(data =summ)\n",
    "df.to_excel('world_music.xlsx', index=False,header = False)#Writing to Excel file"
   ]
  },
  {
   "cell_type": "code",
   "execution_count": 239,
   "metadata": {},
   "outputs": [],
   "source": [
    "record1 = []\n",
    "\n",
    "for i in allposts:\n",
    "    record = get_record(i)\n",
    "    record1.append(record)\n"
   ]
  },
  {
   "cell_type": "code",
   "execution_count": 240,
   "metadata": {},
   "outputs": [
    {
     "data": {
      "text/plain": [
       "[<function sum(iterable, /, start=0)>]"
      ]
     },
     "execution_count": 240,
     "metadata": {},
     "output_type": "execute_result"
    }
   ],
   "source": []
  },
  {
   "cell_type": "code",
   "execution_count": 242,
   "metadata": {},
   "outputs": [
    {
     "ename": "Error",
     "evalue": "iterable expected, not builtin_function_or_method",
     "output_type": "error",
     "traceback": [
      "\u001b[1;31m---------------------------------------------------------------------------\u001b[0m",
      "\u001b[1;31mError\u001b[0m                                     Traceback (most recent call last)",
      "\u001b[1;32m<ipython-input-242-12c15962c81f>\u001b[0m in \u001b[0;36m<module>\u001b[1;34m\u001b[0m\n\u001b[0;32m      2\u001b[0m         \u001b[0mwriter\u001b[0m \u001b[1;33m=\u001b[0m \u001b[0mcsv\u001b[0m\u001b[1;33m.\u001b[0m\u001b[0mwriter\u001b[0m\u001b[1;33m(\u001b[0m\u001b[0mf\u001b[0m\u001b[1;33m)\u001b[0m\u001b[1;33m\u001b[0m\u001b[1;33m\u001b[0m\u001b[0m\n\u001b[0;32m      3\u001b[0m         \u001b[0mwriter\u001b[0m\u001b[1;33m.\u001b[0m\u001b[0mwriterow\u001b[0m\u001b[1;33m(\u001b[0m\u001b[1;33m[\u001b[0m\u001b[1;34m'Summary'\u001b[0m\u001b[1;33m]\u001b[0m\u001b[1;33m)\u001b[0m\u001b[1;33m\u001b[0m\u001b[1;33m\u001b[0m\u001b[0m\n\u001b[1;32m----> 4\u001b[1;33m         \u001b[0mwriter\u001b[0m\u001b[1;33m.\u001b[0m\u001b[0mwriterows\u001b[0m\u001b[1;33m(\u001b[0m\u001b[0mrecord1\u001b[0m\u001b[1;33m)\u001b[0m\u001b[1;33m\u001b[0m\u001b[1;33m\u001b[0m\u001b[0m\n\u001b[0m",
      "\u001b[1;31mError\u001b[0m: iterable expected, not builtin_function_or_method"
     ]
    }
   ],
   "source": [
    "with open('summ.csv', 'w', newline='', encoding='utf-8') as f:\n",
    "        writer = csv.writer(f)\n",
    "        writer.writerow(['Summary'])\n",
    "        writer.writerows(record1)"
   ]
  },
  {
   "cell_type": "code",
   "execution_count": null,
   "metadata": {},
   "outputs": [],
   "source": []
  }
 ],
 "metadata": {
  "kernelspec": {
   "display_name": "Python 3",
   "language": "python",
   "name": "python3"
  },
  "language_info": {
   "codemirror_mode": {
    "name": "ipython",
    "version": 3
   },
   "file_extension": ".py",
   "mimetype": "text/x-python",
   "name": "python",
   "nbconvert_exporter": "python",
   "pygments_lexer": "ipython3",
   "version": "3.8.5"
  }
 },
 "nbformat": 4,
 "nbformat_minor": 4
}
