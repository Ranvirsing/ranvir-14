{
 "cells": [
  {
   "cell_type": "code",
   "execution_count": 1,
   "metadata": {},
   "outputs": [],
   "source": [
    "import pandas as pd\n",
    "from bs4 import BeautifulSoup\n",
    "import pandas as pd\n",
    "import requests\n",
    "import csv"
   ]
  },
  {
   "cell_type": "code",
   "execution_count": 19,
   "metadata": {},
   "outputs": [],
   "source": [
    "df1=pd.read_csv('title.csv')\n",
    "df2=pd.read_csv('title2.csv')\n",
    "df3=pd.read_csv('title3.csv')\n",
    "df4=pd.read_csv('title4.csv')\n",
    "df5=pd.read_csv('title5.csv')"
   ]
  },
  {
   "cell_type": "code",
   "execution_count": 20,
   "metadata": {},
   "outputs": [],
   "source": [
    "df=pd.concat([df1,df2,df3,df4,df5], axis=0)"
   ]
  },
  {
   "cell_type": "code",
   "execution_count": 21,
   "metadata": {},
   "outputs": [
    {
     "data": {
      "text/plain": [
       "(120, 4)"
      ]
     },
     "execution_count": 21,
     "metadata": {},
     "output_type": "execute_result"
    }
   ],
   "source": [
    "df.shape"
   ]
  },
  {
   "cell_type": "code",
   "execution_count": 22,
   "metadata": {},
   "outputs": [
    {
     "data": {
      "text/html": [
       "<div>\n",
       "<style scoped>\n",
       "    .dataframe tbody tr th:only-of-type {\n",
       "        vertical-align: middle;\n",
       "    }\n",
       "\n",
       "    .dataframe tbody tr th {\n",
       "        vertical-align: top;\n",
       "    }\n",
       "\n",
       "    .dataframe thead th {\n",
       "        text-align: right;\n",
       "    }\n",
       "</style>\n",
       "<table border=\"1\" class=\"dataframe\">\n",
       "  <thead>\n",
       "    <tr style=\"text-align: right;\">\n",
       "      <th></th>\n",
       "      <th>JobTitle</th>\n",
       "      <th>Location</th>\n",
       "      <th>JobUrl</th>\n",
       "      <th>Lable</th>\n",
       "    </tr>\n",
       "  </thead>\n",
       "  <tbody>\n",
       "    <tr>\n",
       "      <th>0</th>\n",
       "      <td>Application Integration Engineering</td>\n",
       "      <td>Bangalore</td>\n",
       "      <td>/internship/detail/application-integration-eng...</td>\n",
       "      <td>Engineering</td>\n",
       "    </tr>\n",
       "    <tr>\n",
       "      <th>1</th>\n",
       "      <td>In-house Tools Development in G Suite</td>\n",
       "      <td>Bangalore</td>\n",
       "      <td>/internship/detail/in-house-tools-development-...</td>\n",
       "      <td>Engineering</td>\n",
       "    </tr>\n",
       "    <tr>\n",
       "      <th>2</th>\n",
       "      <td>Cloud Computing</td>\n",
       "      <td>Mumbai</td>\n",
       "      <td>/internship/detail/cloud-computing-internship-...</td>\n",
       "      <td>Engineering</td>\n",
       "    </tr>\n",
       "    <tr>\n",
       "      <th>3</th>\n",
       "      <td>Software Project Management</td>\n",
       "      <td>Work From Home</td>\n",
       "      <td>/internship/detail/software-project-management...</td>\n",
       "      <td>Engineering</td>\n",
       "    </tr>\n",
       "    <tr>\n",
       "      <th>4</th>\n",
       "      <td>Mechatronics</td>\n",
       "      <td>Hosur</td>\n",
       "      <td>/internship/detail/mechatronics-internship-in-...</td>\n",
       "      <td>Engineering</td>\n",
       "    </tr>\n",
       "  </tbody>\n",
       "</table>\n",
       "</div>"
      ],
      "text/plain": [
       "                                JobTitle        Location  \\\n",
       "0    Application Integration Engineering       Bangalore   \n",
       "1  In-house Tools Development in G Suite       Bangalore   \n",
       "2                        Cloud Computing          Mumbai   \n",
       "3            Software Project Management  Work From Home   \n",
       "4                           Mechatronics           Hosur   \n",
       "\n",
       "                                              JobUrl        Lable  \n",
       "0  /internship/detail/application-integration-eng...  Engineering  \n",
       "1  /internship/detail/in-house-tools-development-...  Engineering  \n",
       "2  /internship/detail/cloud-computing-internship-...  Engineering  \n",
       "3  /internship/detail/software-project-management...  Engineering  \n",
       "4  /internship/detail/mechatronics-internship-in-...  Engineering  "
      ]
     },
     "execution_count": 22,
     "metadata": {},
     "output_type": "execute_result"
    }
   ],
   "source": [
    "df.head()"
   ]
  },
  {
   "cell_type": "code",
   "execution_count": 9,
   "metadata": {},
   "outputs": [
    {
     "data": {
      "text/plain": [
       "list"
      ]
     },
     "execution_count": 9,
     "metadata": {},
     "output_type": "execute_result"
    }
   ],
   "source": [
    "y = 'https://internshala.com'\n",
    "links = [y+x for x in df['JobUrl']]\n",
    "type(links)"
   ]
  },
  {
   "cell_type": "code",
   "execution_count": 25,
   "metadata": {},
   "outputs": [],
   "source": [
    "summar=[]\n",
    "for i in links:\n",
    "    res=requests.get(i)\n",
    "    soup=BeautifulSoup(res.text,'html.parser')\n",
    "    allpost=soup.findAll('div',{'class':\"internship_details\"})\n",
    "    summa=[]\n",
    "    for post1 in allpost:\n",
    "        summ2=post1.findAll('div','text-container')[2].text.strip()\n",
    "        summ=[summ2]\n",
    "        summa.append(summ)\n",
    "    summar.append(summa)\n",
    "\n",
    "with open('summary.csv', 'w', newline='', encoding='utf-8') as f:\n",
    "        writer = csv.writer(f)\n",
    "        writer.writerow(['Summary'])\n",
    "        writer.writerows(summar)\n",
    "        "
   ]
  },
  {
   "cell_type": "code",
   "execution_count": 73,
   "metadata": {},
   "outputs": [],
   "source": [
    "l=['https://internshala.com/internship/detail/research-marketing-work-from-home-job-internship-at-times-internet1631177959',\n",
    " 'https://internshala.com/internship/detail/marketing-internship-in-dindigul-at-byjus-the-learning-app1631172036']\n",
    "summar=[]\n",
    "for i in l:\n",
    "    res=requests.get(i)\n",
    "    soup=BeautifulSoup(res.text,'html.parser')\n",
    "    allpost=soup.findAll('div',{'class':\"internship_details\"})\n",
    "    summa=[]\n",
    "    for post1 in allpost:\n",
    "        summ1=post1.findAll('div','text-container')[0].text.strip()\n",
    "        summ2=post1.findAll('div','text-container')[1].text.strip()\n",
    "        summ3=post1.findAll('div','text-container')[2].text.strip()\n",
    "        summ=[summ1,summ2,summ3]\n",
    "        summa.append(summ)\n",
    "    summar.append(summa)\n",
    "import csv\n",
    "with open('demo.csv', 'w', newline='', encoding='utf-8') as f:\n",
    "        writer = csv.writer(f)\n",
    "        writer.writerow(['Summary1'])\n",
    "        writer.writerows(summar)"
   ]
  },
  {
   "cell_type": "code",
   "execution_count": 26,
   "metadata": {},
   "outputs": [
    {
     "data": {
      "text/html": [
       "<div>\n",
       "<style scoped>\n",
       "    .dataframe tbody tr th:only-of-type {\n",
       "        vertical-align: middle;\n",
       "    }\n",
       "\n",
       "    .dataframe tbody tr th {\n",
       "        vertical-align: top;\n",
       "    }\n",
       "\n",
       "    .dataframe thead th {\n",
       "        text-align: right;\n",
       "    }\n",
       "</style>\n",
       "<table border=\"1\" class=\"dataframe\">\n",
       "  <thead>\n",
       "    <tr style=\"text-align: right;\">\n",
       "      <th></th>\n",
       "      <th>Summary</th>\n",
       "    </tr>\n",
       "  </thead>\n",
       "  <tbody>\n",
       "    <tr>\n",
       "      <th>0</th>\n",
       "      <td>[\"Selected intern's day-to-day responsibilitie...</td>\n",
       "    </tr>\n",
       "    <tr>\n",
       "      <th>1</th>\n",
       "      <td>[\"Selected intern's day-to-day responsibilitie...</td>\n",
       "    </tr>\n",
       "    <tr>\n",
       "      <th>2</th>\n",
       "      <td>[\"Selected intern's day-to-day responsibilitie...</td>\n",
       "    </tr>\n",
       "    <tr>\n",
       "      <th>3</th>\n",
       "      <td>[\"Selected intern's day-to-day responsibilitie...</td>\n",
       "    </tr>\n",
       "    <tr>\n",
       "      <th>4</th>\n",
       "      <td>[\"Selected intern's day-to-day responsibilitie...</td>\n",
       "    </tr>\n",
       "  </tbody>\n",
       "</table>\n",
       "</div>"
      ],
      "text/plain": [
       "                                             Summary\n",
       "0  [\"Selected intern's day-to-day responsibilitie...\n",
       "1  [\"Selected intern's day-to-day responsibilitie...\n",
       "2  [\"Selected intern's day-to-day responsibilitie...\n",
       "3  [\"Selected intern's day-to-day responsibilitie...\n",
       "4  [\"Selected intern's day-to-day responsibilitie..."
      ]
     },
     "execution_count": 26,
     "metadata": {},
     "output_type": "execute_result"
    }
   ],
   "source": [
    "df6=pd.read_csv('summary.csv')\n",
    "df6.head()"
   ]
  },
  {
   "cell_type": "code",
   "execution_count": 27,
   "metadata": {},
   "outputs": [
    {
     "data": {
      "text/plain": [
       "(120, 1)"
      ]
     },
     "execution_count": 27,
     "metadata": {},
     "output_type": "execute_result"
    }
   ],
   "source": [
    "df6.shape"
   ]
  },
  {
   "cell_type": "code",
   "execution_count": 28,
   "metadata": {},
   "outputs": [
    {
     "data": {
      "text/plain": [
       "(120, 4)"
      ]
     },
     "execution_count": 28,
     "metadata": {},
     "output_type": "execute_result"
    }
   ],
   "source": [
    "df.shape"
   ]
  },
  {
   "cell_type": "code",
   "execution_count": 29,
   "metadata": {},
   "outputs": [],
   "source": [
    "main=pd.concat([df, df6], axis=1, join='inner')"
   ]
  },
  {
   "cell_type": "code",
   "execution_count": 30,
   "metadata": {},
   "outputs": [
    {
     "data": {
      "text/html": [
       "<div>\n",
       "<style scoped>\n",
       "    .dataframe tbody tr th:only-of-type {\n",
       "        vertical-align: middle;\n",
       "    }\n",
       "\n",
       "    .dataframe tbody tr th {\n",
       "        vertical-align: top;\n",
       "    }\n",
       "\n",
       "    .dataframe thead th {\n",
       "        text-align: right;\n",
       "    }\n",
       "</style>\n",
       "<table border=\"1\" class=\"dataframe\">\n",
       "  <thead>\n",
       "    <tr style=\"text-align: right;\">\n",
       "      <th></th>\n",
       "      <th>JobTitle</th>\n",
       "      <th>Location</th>\n",
       "      <th>JobUrl</th>\n",
       "      <th>Lable</th>\n",
       "      <th>Summary</th>\n",
       "    </tr>\n",
       "  </thead>\n",
       "  <tbody>\n",
       "    <tr>\n",
       "      <th>0</th>\n",
       "      <td>Application Integration Engineering</td>\n",
       "      <td>Bangalore</td>\n",
       "      <td>/internship/detail/application-integration-eng...</td>\n",
       "      <td>Engineering</td>\n",
       "      <td>[\"Selected intern's day-to-day responsibilitie...</td>\n",
       "    </tr>\n",
       "    <tr>\n",
       "      <th>1</th>\n",
       "      <td>In-house Tools Development in G Suite</td>\n",
       "      <td>Bangalore</td>\n",
       "      <td>/internship/detail/in-house-tools-development-...</td>\n",
       "      <td>Engineering</td>\n",
       "      <td>[\"Selected intern's day-to-day responsibilitie...</td>\n",
       "    </tr>\n",
       "    <tr>\n",
       "      <th>2</th>\n",
       "      <td>Cloud Computing</td>\n",
       "      <td>Mumbai</td>\n",
       "      <td>/internship/detail/cloud-computing-internship-...</td>\n",
       "      <td>Engineering</td>\n",
       "      <td>[\"Selected intern's day-to-day responsibilitie...</td>\n",
       "    </tr>\n",
       "    <tr>\n",
       "      <th>3</th>\n",
       "      <td>Software Project Management</td>\n",
       "      <td>Work From Home</td>\n",
       "      <td>/internship/detail/software-project-management...</td>\n",
       "      <td>Engineering</td>\n",
       "      <td>[\"Selected intern's day-to-day responsibilitie...</td>\n",
       "    </tr>\n",
       "    <tr>\n",
       "      <th>4</th>\n",
       "      <td>Mechatronics</td>\n",
       "      <td>Hosur</td>\n",
       "      <td>/internship/detail/mechatronics-internship-in-...</td>\n",
       "      <td>Engineering</td>\n",
       "      <td>[\"Selected intern's day-to-day responsibilitie...</td>\n",
       "    </tr>\n",
       "  </tbody>\n",
       "</table>\n",
       "</div>"
      ],
      "text/plain": [
       "                                JobTitle        Location  \\\n",
       "0    Application Integration Engineering       Bangalore   \n",
       "1  In-house Tools Development in G Suite       Bangalore   \n",
       "2                        Cloud Computing          Mumbai   \n",
       "3            Software Project Management  Work From Home   \n",
       "4                           Mechatronics           Hosur   \n",
       "\n",
       "                                              JobUrl        Lable  \\\n",
       "0  /internship/detail/application-integration-eng...  Engineering   \n",
       "1  /internship/detail/in-house-tools-development-...  Engineering   \n",
       "2  /internship/detail/cloud-computing-internship-...  Engineering   \n",
       "3  /internship/detail/software-project-management...  Engineering   \n",
       "4  /internship/detail/mechatronics-internship-in-...  Engineering   \n",
       "\n",
       "                                             Summary  \n",
       "0  [\"Selected intern's day-to-day responsibilitie...  \n",
       "1  [\"Selected intern's day-to-day responsibilitie...  \n",
       "2  [\"Selected intern's day-to-day responsibilitie...  \n",
       "3  [\"Selected intern's day-to-day responsibilitie...  \n",
       "4  [\"Selected intern's day-to-day responsibilitie...  "
      ]
     },
     "execution_count": 30,
     "metadata": {},
     "output_type": "execute_result"
    }
   ],
   "source": [
    "main.head()"
   ]
  },
  {
   "cell_type": "code",
   "execution_count": 31,
   "metadata": {},
   "outputs": [],
   "source": [
    "main.to_csv('main.csv')"
   ]
  },
  {
   "cell_type": "code",
   "execution_count": null,
   "metadata": {},
   "outputs": [],
   "source": []
  }
 ],
 "metadata": {
  "kernelspec": {
   "display_name": "Python 3",
   "language": "python",
   "name": "python3"
  },
  "language_info": {
   "codemirror_mode": {
    "name": "ipython",
    "version": 3
   },
   "file_extension": ".py",
   "mimetype": "text/x-python",
   "name": "python",
   "nbconvert_exporter": "python",
   "pygments_lexer": "ipython3",
   "version": "3.8.5"
  }
 },
 "nbformat": 4,
 "nbformat_minor": 4
}
